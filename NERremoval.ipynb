{
 "cells": [
  {
   "cell_type": "code",
   "execution_count": 1,
   "id": "36fb3365",
   "metadata": {},
   "outputs": [],
   "source": [
    "#imports\n",
    "\n",
    "from sklearn.feature_extraction.text import TfidfVectorizer\n",
    "import pandas as pd\n",
    "import spacy\n",
    "import re\n",
    "from collections import Counter\n",
    "NLP = spacy.load('en_core_web_md')\n",
    "nameList = []\n",
    "#toy corpus\n",
    "corpus = [\n",
    "    \n",
    "    \"Mark Drakeford (born 1954) is a Welsh Labour Party politician serving as First Minister of Wales and Leader of Welsh Labour since 2018. Mark Rakeford. He previously served in the Welsh Government as Cabinet Secretary for Finance from 2016 to 2018 and Minister for Health and Social Services from 2013 to 2016. Mark Drakeford was first elected as the Member of the Senedd (MS) for Cardiff West in 2011. Mark without his last name.\",\n",
    "    \"Boris Johnson is a British politician and writer, serving as Prime Minister of the United Kingdom and Leader of the Conservative Party since July 2019. Boris Johnson is not unlike ex-PM Tony Blair.\",\n",
    "    \"David Basch is my name. Do you know Boris Johnson? I am not famous. Her name is Jane Goodall. I like Mark Cakeford. His name is David Jones. Mr Drakeford. And there is another guy called Joe Swanson.Also Zach Richards.\"\n",
    "]"
   ]
  },
  {
   "cell_type": "code",
   "execution_count": 2,
   "id": "255ca8c8",
   "metadata": {},
   "outputs": [],
   "source": [
    "#get most popular names\n",
    "\n",
    "def name_ranker(text):\n",
    "    converted_text = NLP(text)\n",
    "    for ent in converted_text.ents:\n",
    "        \n",
    "        if str(ent.label_) == \"PERSON\":\n",
    "            name = str(ent.text)\n",
    "            nameList.append(name)\n",
    "            \n",
    "    return text\n",
    "\n",
    "\n",
    "            "
   ]
  },
  {
   "cell_type": "code",
   "execution_count": 3,
   "id": "b7a1fc58",
   "metadata": {
    "scrolled": false
   },
   "outputs": [],
   "source": [
    "#prepare df\n",
    "df = pd.DataFrame(corpus, columns = ['texts'])\n",
    "#apply name ranker method to corpus\n",
    "df = df.apply(lambda row: name_ranker(row['texts']), axis=1)\n",
    "#fit the data\n",
    "tfidf = TfidfVectorizer(ngram_range=(2, 2))\n",
    "tfidf_matrix = tfidf.fit_transform(nameList)\n",
    "#score the names\n",
    "scored_names = pd.DataFrame(tfidf_matrix.toarray(), columns = tfidf.get_feature_names())\n",
    "#melt\n",
    "scored_names_listed = pd.melt(scored_names, var_name=\"Word\", value_name=\"Score\")\n",
    "#group by name\n",
    "scored_names_sorted = scored_names_listed.groupby('Word').Score.sum().reset_index()\n",
    "#sort by score\n",
    "scored_names_sorted.sort_values(\"Score\", inplace=True, ascending=False)\n",
    "scored_names_sorted = scored_names_sorted.reset_index()\n",
    "#percent = round(0.10 * scored_bigrams_sorted.shape[0])\n",
    "#take the top names and store in list\n",
    "top_names = scored_names_sorted['Word'][0:3]\n",
    "top_names = top_names.values.tolist()"
   ]
  },
  {
   "cell_type": "code",
   "execution_count": 4,
   "id": "45c08889",
   "metadata": {},
   "outputs": [],
   "source": [
    "#take user defined accepted names from file\n",
    "user_def_names = ['jane goodall']\n",
    "#append names to the top names list\n",
    "top_names.append(user_def_names)"
   ]
  },
  {
   "cell_type": "code",
   "execution_count": 5,
   "id": "9d761398",
   "metadata": {},
   "outputs": [],
   "source": [
    "def named_entity_removal(text):\n",
    "    converted_text = NLP(text)\n",
    "    for ent in converted_text.ents:\n",
    "        \n",
    "        if str(ent.label_) == \"PERSON\" and str(ent.text).lower() not in str(top_names).lower():\n",
    "            name = str(ent.text)\n",
    "            text = text.replace(name, 'REDACTED[per]')\n",
    "\n",
    "    return text\n",
    "\n",
    "df = pd.DataFrame(corpus, columns = ['texts'])\n",
    "moddf = df.apply(lambda row: named_entity_removal(row['texts']), axis=1)"
   ]
  },
  {
   "cell_type": "code",
   "execution_count": 6,
   "id": "1970ff36",
   "metadata": {},
   "outputs": [
    {
     "name": "stdout",
     "output_type": "stream",
     "text": [
      "Mark Drakeford (born 1954) is a Welsh Labour Party politician serving as First Minister of Wales and Leader of Welsh Labour since 2018. REDACTED[per]. He previously served in the Welsh Government as Cabinet Secretary for Finance from 2016 to 2018 and Minister for Health and Social Services from 2013 to 2016. Mark Drakeford was first elected as the Member of the Senedd (MS) for Cardiff West in 2011. Mark without his last name.\n",
      "Boris Johnson is a British politician and writer, serving as Prime Minister of the United Kingdom and Leader of the Conservative Party since July 2019. Boris Johnson is not unlike ex-PM REDACTED[per].\n",
      "David Basch is my name. Do you know Boris Johnson? I am not famous. Her name is Jane Goodall. I like REDACTED[per]. His name is REDACTED[per]. Mr Drakeford. And there is another guy called REDACTED[per].Also REDACTED[per].\n"
     ]
    }
   ],
   "source": [
    "for i in moddf:\n",
    "    print(i)"
   ]
  },
  {
   "cell_type": "code",
   "execution_count": null,
   "id": "c2e63841",
   "metadata": {},
   "outputs": [],
   "source": []
  },
  {
   "cell_type": "code",
   "execution_count": null,
   "id": "03fc7d4a",
   "metadata": {},
   "outputs": [],
   "source": []
  },
  {
   "cell_type": "code",
   "execution_count": null,
   "id": "5b03cba9",
   "metadata": {},
   "outputs": [],
   "source": []
  },
  {
   "cell_type": "code",
   "execution_count": null,
   "id": "a4964dcd",
   "metadata": {},
   "outputs": [],
   "source": []
  }
 ],
 "metadata": {
  "kernelspec": {
   "display_name": "Python 3",
   "language": "python",
   "name": "python3"
  },
  "language_info": {
   "codemirror_mode": {
    "name": "ipython",
    "version": 3
   },
   "file_extension": ".py",
   "mimetype": "text/x-python",
   "name": "python",
   "nbconvert_exporter": "python",
   "pygments_lexer": "ipython3",
   "version": "3.8.8"
  }
 },
 "nbformat": 4,
 "nbformat_minor": 5
}
